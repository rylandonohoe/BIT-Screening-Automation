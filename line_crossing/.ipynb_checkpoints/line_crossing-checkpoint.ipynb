{
 "cells": [
  {
   "cell_type": "code",
   "execution_count": 1,
   "id": "1b62d0af",
   "metadata": {},
   "outputs": [],
   "source": [
    "import cv2 as cv\n",
    "import poly_point_isect as bot\n",
    "import math\n",
    "import matplotlib.pyplot as plt\n",
    "import numpy as np\n",
    "import sys"
   ]
  },
  {
   "cell_type": "markdown",
   "id": "6c172939",
   "metadata": {},
   "source": [
    "## Image Acquisition"
   ]
  },
  {
   "cell_type": "code",
   "execution_count": 2,
   "id": "687abb37",
   "metadata": {},
   "outputs": [],
   "source": [
    "img = cv.imread(cv.samples.findFile(\"example.png\"))\n",
    "if img is None:\n",
    "    sys.exit(\"Could not read the image.\")\n",
    "\n",
    "cv.imshow(\"Display window\", img)\n",
    "k = cv.waitKey(0)\n",
    "if k == ord(\"s\"):\n",
    "    cv.imwrite(\"example.png\", img)"
   ]
  },
  {
   "cell_type": "markdown",
   "id": "562eef8a",
   "metadata": {},
   "source": [
    "## Image Pre-Processing"
   ]
  },
  {
   "cell_type": "markdown",
   "id": "555d4909",
   "metadata": {},
   "source": [
    "### Grayscale Conversion"
   ]
  },
  {
   "cell_type": "code",
   "execution_count": 3,
   "id": "0688e1b9",
   "metadata": {},
   "outputs": [],
   "source": [
    "gray = cv.cvtColor(img, cv.COLOR_BGR2GRAY)\n",
    "\n",
    "cv.imshow(\"Display window\", gray)\n",
    "k = cv.waitKey(0)\n",
    "if k == ord(\"s\"):\n",
    "    cv.imwrite(\"example.png\", gray)"
   ]
  },
  {
   "cell_type": "markdown",
   "id": "e085da6a",
   "metadata": {},
   "source": [
    "### Noise Reduction"
   ]
  },
  {
   "cell_type": "code",
   "execution_count": 4,
   "id": "435d3dc1",
   "metadata": {},
   "outputs": [],
   "source": [
    "blur_gray = cv.GaussianBlur(gray, (5, 5), 0)\n",
    "\n",
    "cv.imshow(\"Display window\", blur_gray)\n",
    "k = cv.waitKey(0)\n",
    "if k == ord(\"s\"):\n",
    "    cv.imwrite(\"example.png\", blur_gray)"
   ]
  },
  {
   "cell_type": "markdown",
   "id": "89fad61d",
   "metadata": {},
   "source": [
    "### Binarization"
   ]
  },
  {
   "cell_type": "code",
   "execution_count": 5,
   "id": "3085e4fc",
   "metadata": {},
   "outputs": [],
   "source": [
    "ret, binary_blur_gray = cv.threshold(blur_gray, 127, 255, cv.THRESH_BINARY)\n",
    "\n",
    "cv.imshow(\"Display window\", binary_blur_gray)\n",
    "k = cv.waitKey(0)\n",
    "if k == ord(\"s\"):\n",
    "    cv.imwrite(\"example.png\", binary_blur_gray)"
   ]
  },
  {
   "cell_type": "markdown",
   "id": "404e4065",
   "metadata": {},
   "source": [
    "### Edge and Line Detection"
   ]
  },
  {
   "cell_type": "code",
   "execution_count": 6,
   "id": "7a9d738d",
   "metadata": {},
   "outputs": [],
   "source": [
    "binary_blur_rgb = cv.cvtColor(binary_blur_gray, cv.COLOR_GRAY2RGB)\n",
    "\n",
    "line_img = np.zeros((binary_blur_rgb.shape[0], binary_blur_rgb.shape[1], 3), dtype=np.uint8)\n",
    "line_img[:] = (255, 255, 255)\n",
    "\n",
    "# edge detection\n",
    "lower_threshold = 50  # lower threshold value in Hysteresis Thresholding\n",
    "upper_threshold = 150  # upper threshold value in Hysteresis Thresholding\n",
    "aperture_size = 7  # aperture size of the Sobel filter\n",
    "edges = cv.Canny(binary_blur_rgb, lower_threshold, upper_threshold, aperture_size)\n",
    "\n",
    "# line detection\n",
    "rho = 1  # distance resolution in pixels of the Hough grid\n",
    "theta = np.pi / 180  # angular resolution in radians of the Hough grid\n",
    "threshold = 20  # minimum number of votes (intersections in Hough grid cell)\n",
    "min_line_length = 30  # minimum number of pixels making up a line\n",
    "max_line_gap = 10  # maximum gap in pixels between connectable line segments\n",
    "lines = cv.HoughLinesP(edges, rho, theta, threshold, np.array([]), min_line_length, max_line_gap)\n",
    "new_lines = [[[x1, y1], [x2, y2]] for [[x1, y1, x2, y2]] in lines]\n",
    "\n",
    "# Draw the lines\n",
    "for line in new_lines:\n",
    "    x1, y1 = line[0]\n",
    "    x2, y2 = line[1]\n",
    "    cv.line(line_img, (x1, y1), (x2, y2), (255, 0, 0), 5)\n",
    "\n",
    "new_img = cv.addWeighted(binary_blur_rgb, 0.8, line_img, 1, 0)\n",
    "\n",
    "cv.imshow(\"Display window\", new_img)\n",
    "k = cv.waitKey(0)\n",
    "if k == ord(\"s\"):\n",
    "    cv.imwrite(\"example_lines_blue.png\", new_img)"
   ]
  },
  {
   "cell_type": "markdown",
   "id": "9dd18377",
   "metadata": {},
   "source": [
    "# Intersection Detection"
   ]
  },
  {
   "cell_type": "code",
   "execution_count": null,
   "id": "856807ed",
   "metadata": {},
   "outputs": [],
   "source": [
    "intersection_img = np.zeros((binary_blur_rgb.shape[0], binary_blur_rgb.shape[1], 3), dtype=np.uint8)\n",
    "intersection_img[:] = (255, 255, 255)\n",
    "\n",
    "# Intersections computation\n",
    "def lines_similar(line1, line2, slope_threshold):\n",
    "    # Calculate slopes of the lines\n",
    "    slope1 = (line1[1][1] - line1[0][1]) / (line1[1][0] - line1[0][0]) if line1[1][0] != line1[0][0] else 1000000\n",
    "    slope2 = (line2[1][1] - line2[0][1]) / (line2[1][0] - line2[0][0]) if line2[1][0] != line2[0][0] else 1000000\n",
    "\n",
    "    # Compare slopes\n",
    "    return abs(slope1 - slope2) < slope_threshold\n",
    "\n",
    "def line_intersection(line1, line2):\n",
    "    # Unpack lines\n",
    "    x1, y1, x2, y2 = line1[0][0], line1[0][1], line1[1][0], line1[1][1]\n",
    "    x3, y3, x4, y4 = line2[0][0], line2[0][1], line2[1][0], line2[1][1]\n",
    "\n",
    "    # Compute determinants\n",
    "    det1_and_2 = det(x1, y1, x2, y2)\n",
    "    det3_and_4 = det(x3, y3, x4, y4)\n",
    "\n",
    "    # Compute x and y coordinates of intersection point\n",
    "    x = (det(det1_and_2, x1 - x2, det3_and_4, x3 - x4) / det(x1 - x2, y1 - y2, x3 - x4, y3 - y4))\n",
    "    y = (det(det1_and_2, y1 - y2, det3_and_4, y3 - y4) / det(x1 - x2, y1 - y2, x3 - x4, y3 - y4))\n",
    "\n",
    "    # Check if intersection point falls within the domain and range of both lines\n",
    "    if min(x1, x2) <= x <= max(x1, x2) and min(y1, y2) <= y <= max(y1, y2) and min(x3, x4) <= x <= max(x3, x4) and min(y3, y4) <= y <= max(y3, y4):\n",
    "        return x, y\n",
    "    else:\n",
    "        return None\n",
    "\n",
    "\n",
    "def det(a, b, c, d):\n",
    "    return a * d - b * c\n",
    "\n",
    "intersections = []\n",
    "for i in range(len(new_lines)):\n",
    "    for j in range(i+1, len(new_lines)):\n",
    "        if not lines_similar(new_lines[i], new_lines[j], 0.5):  # 0.1 as slope threshold\n",
    "            intersection = line_intersection(new_lines[i], new_lines[j])\n",
    "            if intersection:  # if lines intersect\n",
    "                intersections.append(intersection)              \n",
    "\n",
    "# Intersections merging\n",
    "def distance(point1, point2):\n",
    "    x1, y1 = point1\n",
    "    x2, y2 = point2\n",
    "    return np.sqrt((x2 - x1)**2 + (y2 - y1)**2) \n",
    "\n",
    "merged_intersections = []\n",
    "for point in intersections:  \n",
    "    nearby_points = [p for p in intersections if distance(p, point) < 40]  # 4 cm is 40 pixels\n",
    "    merged_point = [sum(p[i] for p in nearby_points) / len(nearby_points) for i in range(2)]\n",
    "    merged_intersections.append(merged_point)\n",
    "merged_intersections = list(set(tuple(p) for p in merged_intersections))\n",
    "\n",
    "# Draw the intersections\n",
    "for intersection in merged_intersections:\n",
    "    cv.circle(new_img, tuple(map(int, intersection)), 5, (0, 255, 0), -1)  # -1 to fill the circle\n",
    "\n",
    "cv.imshow(\"Display window\", new_img)\n",
    "k = cv.waitKey(0)\n",
    "if k == ord(\"s\"):\n",
    "    cv.imwrite(\"example_lines_blue.png\", new_img)"
   ]
  },
  {
   "cell_type": "markdown",
   "id": "86eb96a4",
   "metadata": {},
   "source": [
    "## Post-Processing"
   ]
  },
  {
   "cell_type": "code",
   "execution_count": null,
   "id": "b26075fa",
   "metadata": {},
   "outputs": [],
   "source": []
  }
 ],
 "metadata": {
  "kernelspec": {
   "display_name": "Python 3 (ipykernel)",
   "language": "python",
   "name": "python3"
  },
  "language_info": {
   "codemirror_mode": {
    "name": "ipython",
    "version": 3
   },
   "file_extension": ".py",
   "mimetype": "text/x-python",
   "name": "python",
   "nbconvert_exporter": "python",
   "pygments_lexer": "ipython3",
   "version": "3.9.12"
  }
 },
 "nbformat": 4,
 "nbformat_minor": 5
}
